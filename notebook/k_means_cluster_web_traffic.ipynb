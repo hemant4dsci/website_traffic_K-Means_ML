{
 "cells": [
  {
   "cell_type": "markdown",
   "id": "2621faa5",
   "metadata": {},
   "source": [
    "># **K-Means Clustering ( Unsupervised Machine Learning )**"
   ]
  },
  {
   "cell_type": "code",
   "execution_count": 4,
   "id": "e663b3ea",
   "metadata": {},
   "outputs": [
    {
     "ename": "ModuleNotFoundError",
     "evalue": "No module named 'seaborn'",
     "output_type": "error",
     "traceback": [
      "\u001b[31m---------------------------------------------------------------------------\u001b[39m",
      "\u001b[31mModuleNotFoundError\u001b[39m                       Traceback (most recent call last)",
      "\u001b[36mCell\u001b[39m\u001b[36m \u001b[39m\u001b[32mIn[4]\u001b[39m\u001b[32m, line 6\u001b[39m\n\u001b[32m      4\u001b[39m \u001b[38;5;28;01mimport\u001b[39;00m\u001b[38;5;250m \u001b[39m\u001b[34;01mpandas\u001b[39;00m\u001b[38;5;250m \u001b[39m\u001b[38;5;28;01mas\u001b[39;00m\u001b[38;5;250m \u001b[39m\u001b[34;01mpd\u001b[39;00m\n\u001b[32m      5\u001b[39m \u001b[38;5;28;01mimport\u001b[39;00m\u001b[38;5;250m \u001b[39m\u001b[34;01mmatplotlib\u001b[39;00m\u001b[34;01m.\u001b[39;00m\u001b[34;01mpyplot\u001b[39;00m\u001b[38;5;250m \u001b[39m\u001b[38;5;28;01mas\u001b[39;00m\u001b[38;5;250m \u001b[39m\u001b[34;01mplt\u001b[39;00m\n\u001b[32m----> \u001b[39m\u001b[32m6\u001b[39m \u001b[38;5;28;01mimport\u001b[39;00m\u001b[38;5;250m \u001b[39m\u001b[34;01mseaborn\u001b[39;00m\u001b[38;5;250m \u001b[39m\u001b[38;5;28;01mas\u001b[39;00m\u001b[38;5;250m \u001b[39m\u001b[34;01msns\u001b[39;00m\n\u001b[32m      7\u001b[39m get_ipython().run_line_magic(\u001b[33m'\u001b[39m\u001b[33mmatplotlib\u001b[39m\u001b[33m'\u001b[39m, \u001b[33m'\u001b[39m\u001b[33minline\u001b[39m\u001b[33m'\u001b[39m)\n",
      "\u001b[31mModuleNotFoundError\u001b[39m: No module named 'seaborn'"
     ]
    }
   ],
   "source": [
    "import os\n",
    "os.environ[\"OMP_NUM_THREADS\"] = \"1\"\n",
    "\n",
    "import pandas as pd\n",
    "import matplotlib.pyplot as plt\n",
    "import seaborn as sns\n",
    "%matplotlib inline"
   ]
  },
  {
   "cell_type": "markdown",
   "id": "fb84f33c",
   "metadata": {},
   "source": [
    "#### Importing and Loading the data set"
   ]
  },
  {
   "cell_type": "code",
   "execution_count": 3,
   "id": "6fb24743",
   "metadata": {},
   "outputs": [
    {
     "data": {
      "application/vnd.microsoft.datawrangler.viewer.v0+json": {
       "columns": [
        {
         "name": "index",
         "rawType": "int64",
         "type": "integer"
        },
        {
         "name": "Title",
         "rawType": "object",
         "type": "string"
        },
        {
         "name": "Keyword",
         "rawType": "object",
         "type": "string"
        },
        {
         "name": "Keyword ID",
         "rawType": "int64",
         "type": "integer"
        },
        {
         "name": "Position",
         "rawType": "int64",
         "type": "integer"
        },
        {
         "name": "Previous position",
         "rawType": "int64",
         "type": "integer"
        },
        {
         "name": "Last Seen",
         "rawType": "object",
         "type": "string"
        },
        {
         "name": "Search Volume",
         "rawType": "int64",
         "type": "integer"
        },
        {
         "name": "CPC",
         "rawType": "float64",
         "type": "float"
        },
        {
         "name": "Traffic",
         "rawType": "int64",
         "type": "integer"
        },
        {
         "name": "Traffic (%)",
         "rawType": "float64",
         "type": "float"
        },
        {
         "name": "Traffic Cost",
         "rawType": "int64",
         "type": "integer"
        },
        {
         "name": "Traffic Cost (%)",
         "rawType": "float64",
         "type": "float"
        },
        {
         "name": "Competition",
         "rawType": "float64",
         "type": "float"
        },
        {
         "name": "Number of Results",
         "rawType": "int64",
         "type": "integer"
        },
        {
         "name": "Keyword Difficulty",
         "rawType": "float64",
         "type": "float"
        }
       ],
       "ref": "43d2aca3-22d6-4c56-b7e5-c91c840c6943",
       "rows": [
        [
         "0",
         "PMP® Exam & Certification | Flat 40% Off - Enroll Now",
         "PMP",
         "3",
         "1",
         "1",
         "31-12-2024",
         "90500",
         "3.76",
         "4253",
         "22.77",
         "15991",
         "24.66",
         "0.6",
         "166000000",
         "78.0"
        ],
        [
         "1",
         "PMP® Exam & Certification | Confidently Ace The PMP Exam",
         "PMP",
         "3",
         "1",
         "1",
         "01-01-2025",
         "90500",
         "3.76",
         "4253",
         "22.77",
         "15991",
         "24.66",
         "0.6",
         "172000000",
         "78.0"
        ],
        [
         "2",
         "PMP® Training & Exam | Special Offer: Get $400 Off",
         "PMP",
         "3",
         "1",
         "2",
         "14-01-2025",
         "90500",
         "3.82",
         "1176",
         "6.29",
         "4492",
         "6.92",
         "0.65",
         "154000000",
         "77.0"
        ],
        [
         "3",
         "CSM Scrum Master Course Online | Today's Offer: Up To 51% Off",
         "Scrum Master",
         "1",
         "1",
         "1",
         "10-01-2025",
         "18100",
         "3.21",
         "850",
         "4.55",
         "2728",
         "4.2",
         "0.64",
         "32000000",
         "70.0"
        ],
        [
         "4",
         "PMP® Certification | Ace PMP Exam in 1st Attempt",
         "PMP",
         "3",
         "3",
         "3",
         "07-01-2025",
         "90500",
         "3.82",
         "814",
         "4.35",
         "3109",
         "4.79",
         "0.65",
         "165000000",
         "78.0"
        ]
       ],
       "shape": {
        "columns": 15,
        "rows": 5
       }
      },
      "text/html": [
       "<div>\n",
       "<style scoped>\n",
       "    .dataframe tbody tr th:only-of-type {\n",
       "        vertical-align: middle;\n",
       "    }\n",
       "\n",
       "    .dataframe tbody tr th {\n",
       "        vertical-align: top;\n",
       "    }\n",
       "\n",
       "    .dataframe thead th {\n",
       "        text-align: right;\n",
       "    }\n",
       "</style>\n",
       "<table border=\"1\" class=\"dataframe\">\n",
       "  <thead>\n",
       "    <tr style=\"text-align: right;\">\n",
       "      <th></th>\n",
       "      <th>Title</th>\n",
       "      <th>Keyword</th>\n",
       "      <th>Keyword ID</th>\n",
       "      <th>Position</th>\n",
       "      <th>Previous position</th>\n",
       "      <th>Last Seen</th>\n",
       "      <th>Search Volume</th>\n",
       "      <th>CPC</th>\n",
       "      <th>Traffic</th>\n",
       "      <th>Traffic (%)</th>\n",
       "      <th>Traffic Cost</th>\n",
       "      <th>Traffic Cost (%)</th>\n",
       "      <th>Competition</th>\n",
       "      <th>Number of Results</th>\n",
       "      <th>Keyword Difficulty</th>\n",
       "    </tr>\n",
       "  </thead>\n",
       "  <tbody>\n",
       "    <tr>\n",
       "      <th>0</th>\n",
       "      <td>PMP® Exam &amp; Certification | Flat 40% Off - Enr...</td>\n",
       "      <td>PMP</td>\n",
       "      <td>3</td>\n",
       "      <td>1</td>\n",
       "      <td>1</td>\n",
       "      <td>31-12-2024</td>\n",
       "      <td>90500</td>\n",
       "      <td>3.76</td>\n",
       "      <td>4253</td>\n",
       "      <td>22.77</td>\n",
       "      <td>15991</td>\n",
       "      <td>24.66</td>\n",
       "      <td>0.60</td>\n",
       "      <td>166000000</td>\n",
       "      <td>78.0</td>\n",
       "    </tr>\n",
       "    <tr>\n",
       "      <th>1</th>\n",
       "      <td>PMP® Exam &amp; Certification | Confidently Ace Th...</td>\n",
       "      <td>PMP</td>\n",
       "      <td>3</td>\n",
       "      <td>1</td>\n",
       "      <td>1</td>\n",
       "      <td>01-01-2025</td>\n",
       "      <td>90500</td>\n",
       "      <td>3.76</td>\n",
       "      <td>4253</td>\n",
       "      <td>22.77</td>\n",
       "      <td>15991</td>\n",
       "      <td>24.66</td>\n",
       "      <td>0.60</td>\n",
       "      <td>172000000</td>\n",
       "      <td>78.0</td>\n",
       "    </tr>\n",
       "    <tr>\n",
       "      <th>2</th>\n",
       "      <td>PMP® Training &amp; Exam | Special Offer: Get $400...</td>\n",
       "      <td>PMP</td>\n",
       "      <td>3</td>\n",
       "      <td>1</td>\n",
       "      <td>2</td>\n",
       "      <td>14-01-2025</td>\n",
       "      <td>90500</td>\n",
       "      <td>3.82</td>\n",
       "      <td>1176</td>\n",
       "      <td>6.29</td>\n",
       "      <td>4492</td>\n",
       "      <td>6.92</td>\n",
       "      <td>0.65</td>\n",
       "      <td>154000000</td>\n",
       "      <td>77.0</td>\n",
       "    </tr>\n",
       "    <tr>\n",
       "      <th>3</th>\n",
       "      <td>CSM Scrum Master Course Online | Today's Offer...</td>\n",
       "      <td>Scrum Master</td>\n",
       "      <td>1</td>\n",
       "      <td>1</td>\n",
       "      <td>1</td>\n",
       "      <td>10-01-2025</td>\n",
       "      <td>18100</td>\n",
       "      <td>3.21</td>\n",
       "      <td>850</td>\n",
       "      <td>4.55</td>\n",
       "      <td>2728</td>\n",
       "      <td>4.20</td>\n",
       "      <td>0.64</td>\n",
       "      <td>32000000</td>\n",
       "      <td>70.0</td>\n",
       "    </tr>\n",
       "    <tr>\n",
       "      <th>4</th>\n",
       "      <td>PMP® Certification | Ace PMP Exam in 1st Attempt</td>\n",
       "      <td>PMP</td>\n",
       "      <td>3</td>\n",
       "      <td>3</td>\n",
       "      <td>3</td>\n",
       "      <td>07-01-2025</td>\n",
       "      <td>90500</td>\n",
       "      <td>3.82</td>\n",
       "      <td>814</td>\n",
       "      <td>4.35</td>\n",
       "      <td>3109</td>\n",
       "      <td>4.79</td>\n",
       "      <td>0.65</td>\n",
       "      <td>165000000</td>\n",
       "      <td>78.0</td>\n",
       "    </tr>\n",
       "  </tbody>\n",
       "</table>\n",
       "</div>"
      ],
      "text/plain": [
       "                                               Title       Keyword  \\\n",
       "0  PMP® Exam & Certification | Flat 40% Off - Enr...           PMP   \n",
       "1  PMP® Exam & Certification | Confidently Ace Th...           PMP   \n",
       "2  PMP® Training & Exam | Special Offer: Get $400...           PMP   \n",
       "3  CSM Scrum Master Course Online | Today's Offer...  Scrum Master   \n",
       "4   PMP® Certification | Ace PMP Exam in 1st Attempt           PMP   \n",
       "\n",
       "   Keyword ID  Position  Previous position   Last Seen  Search Volume   CPC  \\\n",
       "0           3         1                  1  31-12-2024          90500  3.76   \n",
       "1           3         1                  1  01-01-2025          90500  3.76   \n",
       "2           3         1                  2  14-01-2025          90500  3.82   \n",
       "3           1         1                  1  10-01-2025          18100  3.21   \n",
       "4           3         3                  3  07-01-2025          90500  3.82   \n",
       "\n",
       "   Traffic  Traffic (%)  Traffic Cost  Traffic Cost (%)  Competition  \\\n",
       "0     4253        22.77         15991             24.66         0.60   \n",
       "1     4253        22.77         15991             24.66         0.60   \n",
       "2     1176         6.29          4492              6.92         0.65   \n",
       "3      850         4.55          2728              4.20         0.64   \n",
       "4      814         4.35          3109              4.79         0.65   \n",
       "\n",
       "   Number of Results  Keyword Difficulty  \n",
       "0          166000000                78.0  \n",
       "1          172000000                78.0  \n",
       "2          154000000                77.0  \n",
       "3           32000000                70.0  \n",
       "4          165000000                78.0  "
      ]
     },
     "execution_count": 3,
     "metadata": {},
     "output_type": "execute_result"
    }
   ],
   "source": [
    "df = pd.read_csv('website_traffic_data.csv')\n",
    "df.head()"
   ]
  },
  {
   "cell_type": "code",
   "execution_count": 4,
   "id": "cd81ff0e",
   "metadata": {},
   "outputs": [
    {
     "name": "stdout",
     "output_type": "stream",
     "text": [
      "<class 'pandas.core.frame.DataFrame'>\n",
      "RangeIndex: 199 entries, 0 to 198\n",
      "Data columns (total 15 columns):\n",
      " #   Column              Non-Null Count  Dtype  \n",
      "---  ------              --------------  -----  \n",
      " 0   Title               199 non-null    object \n",
      " 1   Keyword             199 non-null    object \n",
      " 2   Keyword ID          199 non-null    int64  \n",
      " 3   Position            199 non-null    int64  \n",
      " 4   Previous position   199 non-null    int64  \n",
      " 5   Last Seen           199 non-null    object \n",
      " 6   Search Volume       199 non-null    int64  \n",
      " 7   CPC                 199 non-null    float64\n",
      " 8   Traffic             199 non-null    int64  \n",
      " 9   Traffic (%)         199 non-null    float64\n",
      " 10  Traffic Cost        199 non-null    int64  \n",
      " 11  Traffic Cost (%)    199 non-null    float64\n",
      " 12  Competition         199 non-null    float64\n",
      " 13  Number of Results   199 non-null    int64  \n",
      " 14  Keyword Difficulty  198 non-null    float64\n",
      "dtypes: float64(5), int64(7), object(3)\n",
      "memory usage: 23.4+ KB\n"
     ]
    }
   ],
   "source": [
    "df.info()"
   ]
  },
  {
   "cell_type": "code",
   "execution_count": 5,
   "id": "95cb2850",
   "metadata": {},
   "outputs": [
    {
     "data": {
      "application/vnd.microsoft.datawrangler.viewer.v0+json": {
       "columns": [
        {
         "name": "index",
         "rawType": "object",
         "type": "string"
        },
        {
         "name": "Keyword ID",
         "rawType": "float64",
         "type": "float"
        },
        {
         "name": "Position",
         "rawType": "float64",
         "type": "float"
        },
        {
         "name": "Previous position",
         "rawType": "float64",
         "type": "float"
        },
        {
         "name": "Search Volume",
         "rawType": "float64",
         "type": "float"
        },
        {
         "name": "CPC",
         "rawType": "float64",
         "type": "float"
        },
        {
         "name": "Traffic",
         "rawType": "float64",
         "type": "float"
        },
        {
         "name": "Traffic (%)",
         "rawType": "float64",
         "type": "float"
        },
        {
         "name": "Traffic Cost",
         "rawType": "float64",
         "type": "float"
        },
        {
         "name": "Traffic Cost (%)",
         "rawType": "float64",
         "type": "float"
        },
        {
         "name": "Competition",
         "rawType": "float64",
         "type": "float"
        },
        {
         "name": "Number of Results",
         "rawType": "float64",
         "type": "float"
        },
        {
         "name": "Keyword Difficulty",
         "rawType": "float64",
         "type": "float"
        }
       ],
       "ref": "16112296-ed95-460f-a4bc-f58dab5983a8",
       "rows": [
        [
         "count",
         "199.0",
         "199.0",
         "199.0",
         "199.0",
         "199.0",
         "199.0",
         "199.0",
         "199.0",
         "199.0",
         "199.0",
         "199.0",
         "198.0"
        ],
        [
         "mean",
         "5.21608040201005",
         "2.5326633165829144",
         "2.391959798994975",
         "4711.608040201005",
         "3.9169849246231156",
         "93.82914572864321",
         "0.4989447236180904",
         "325.81909547738695",
         "0.49934673366834176",
         "0.38165829145728647",
         "45753246.12060302",
         "48.74747474747475"
        ],
        [
         "std",
         "2.9056793419004983",
         "1.5267607626854356",
         "1.5593108029491423",
         "16003.015228107673",
         "3.853916013769076",
         "446.7187339109972",
         "2.3920122529245567",
         "1671.6213648162936",
         "2.5780528780059635",
         "0.19862853970908895",
         "146225260.42036483",
         "16.954309117497044"
        ],
        [
         "min",
         "1.0",
         "1.0",
         "0.0",
         "30.0",
         "0.0",
         "0.0",
         "0.0",
         "0.0",
         "0.0",
         "0.0",
         "0.0",
         "8.0"
        ],
        [
         "25%",
         "3.0",
         "1.0",
         "1.0",
         "70.0",
         "2.31",
         "0.5",
         "0.0",
         "0.0",
         "0.0",
         "0.185",
         "2750000.0",
         "37.0"
        ],
        [
         "50%",
         "5.0",
         "2.0",
         "2.0",
         "170.0",
         "3.21",
         "3.0",
         "0.01",
         "7.0",
         "0.01",
         "0.41",
         "5570000.0",
         "47.5"
        ],
        [
         "75%",
         "8.0",
         "4.0",
         "4.0",
         "1600.0",
         "4.484999999999999",
         "20.0",
         "0.1",
         "48.0",
         "0.07",
         "0.52",
         "31700000.0",
         "60.0"
        ],
        [
         "max",
         "10.0",
         "6.0",
         "6.0",
         "90500.0",
         "46.86",
         "4253.0",
         "22.77",
         "15991.0",
         "24.66",
         "0.95",
         "1400000000.0",
         "97.0"
        ]
       ],
       "shape": {
        "columns": 12,
        "rows": 8
       }
      },
      "text/html": [
       "<div>\n",
       "<style scoped>\n",
       "    .dataframe tbody tr th:only-of-type {\n",
       "        vertical-align: middle;\n",
       "    }\n",
       "\n",
       "    .dataframe tbody tr th {\n",
       "        vertical-align: top;\n",
       "    }\n",
       "\n",
       "    .dataframe thead th {\n",
       "        text-align: right;\n",
       "    }\n",
       "</style>\n",
       "<table border=\"1\" class=\"dataframe\">\n",
       "  <thead>\n",
       "    <tr style=\"text-align: right;\">\n",
       "      <th></th>\n",
       "      <th>Keyword ID</th>\n",
       "      <th>Position</th>\n",
       "      <th>Previous position</th>\n",
       "      <th>Search Volume</th>\n",
       "      <th>CPC</th>\n",
       "      <th>Traffic</th>\n",
       "      <th>Traffic (%)</th>\n",
       "      <th>Traffic Cost</th>\n",
       "      <th>Traffic Cost (%)</th>\n",
       "      <th>Competition</th>\n",
       "      <th>Number of Results</th>\n",
       "      <th>Keyword Difficulty</th>\n",
       "    </tr>\n",
       "  </thead>\n",
       "  <tbody>\n",
       "    <tr>\n",
       "      <th>count</th>\n",
       "      <td>199.000000</td>\n",
       "      <td>199.000000</td>\n",
       "      <td>199.000000</td>\n",
       "      <td>199.000000</td>\n",
       "      <td>199.000000</td>\n",
       "      <td>199.000000</td>\n",
       "      <td>199.000000</td>\n",
       "      <td>199.000000</td>\n",
       "      <td>199.000000</td>\n",
       "      <td>199.000000</td>\n",
       "      <td>1.990000e+02</td>\n",
       "      <td>198.000000</td>\n",
       "    </tr>\n",
       "    <tr>\n",
       "      <th>mean</th>\n",
       "      <td>5.216080</td>\n",
       "      <td>2.532663</td>\n",
       "      <td>2.391960</td>\n",
       "      <td>4711.608040</td>\n",
       "      <td>3.916985</td>\n",
       "      <td>93.829146</td>\n",
       "      <td>0.498945</td>\n",
       "      <td>325.819095</td>\n",
       "      <td>0.499347</td>\n",
       "      <td>0.381658</td>\n",
       "      <td>4.575325e+07</td>\n",
       "      <td>48.747475</td>\n",
       "    </tr>\n",
       "    <tr>\n",
       "      <th>std</th>\n",
       "      <td>2.905679</td>\n",
       "      <td>1.526761</td>\n",
       "      <td>1.559311</td>\n",
       "      <td>16003.015228</td>\n",
       "      <td>3.853916</td>\n",
       "      <td>446.718734</td>\n",
       "      <td>2.392012</td>\n",
       "      <td>1671.621365</td>\n",
       "      <td>2.578053</td>\n",
       "      <td>0.198629</td>\n",
       "      <td>1.462253e+08</td>\n",
       "      <td>16.954309</td>\n",
       "    </tr>\n",
       "    <tr>\n",
       "      <th>min</th>\n",
       "      <td>1.000000</td>\n",
       "      <td>1.000000</td>\n",
       "      <td>0.000000</td>\n",
       "      <td>30.000000</td>\n",
       "      <td>0.000000</td>\n",
       "      <td>0.000000</td>\n",
       "      <td>0.000000</td>\n",
       "      <td>0.000000</td>\n",
       "      <td>0.000000</td>\n",
       "      <td>0.000000</td>\n",
       "      <td>0.000000e+00</td>\n",
       "      <td>8.000000</td>\n",
       "    </tr>\n",
       "    <tr>\n",
       "      <th>25%</th>\n",
       "      <td>3.000000</td>\n",
       "      <td>1.000000</td>\n",
       "      <td>1.000000</td>\n",
       "      <td>70.000000</td>\n",
       "      <td>2.310000</td>\n",
       "      <td>0.500000</td>\n",
       "      <td>0.000000</td>\n",
       "      <td>0.000000</td>\n",
       "      <td>0.000000</td>\n",
       "      <td>0.185000</td>\n",
       "      <td>2.750000e+06</td>\n",
       "      <td>37.000000</td>\n",
       "    </tr>\n",
       "    <tr>\n",
       "      <th>50%</th>\n",
       "      <td>5.000000</td>\n",
       "      <td>2.000000</td>\n",
       "      <td>2.000000</td>\n",
       "      <td>170.000000</td>\n",
       "      <td>3.210000</td>\n",
       "      <td>3.000000</td>\n",
       "      <td>0.010000</td>\n",
       "      <td>7.000000</td>\n",
       "      <td>0.010000</td>\n",
       "      <td>0.410000</td>\n",
       "      <td>5.570000e+06</td>\n",
       "      <td>47.500000</td>\n",
       "    </tr>\n",
       "    <tr>\n",
       "      <th>75%</th>\n",
       "      <td>8.000000</td>\n",
       "      <td>4.000000</td>\n",
       "      <td>4.000000</td>\n",
       "      <td>1600.000000</td>\n",
       "      <td>4.485000</td>\n",
       "      <td>20.000000</td>\n",
       "      <td>0.100000</td>\n",
       "      <td>48.000000</td>\n",
       "      <td>0.070000</td>\n",
       "      <td>0.520000</td>\n",
       "      <td>3.170000e+07</td>\n",
       "      <td>60.000000</td>\n",
       "    </tr>\n",
       "    <tr>\n",
       "      <th>max</th>\n",
       "      <td>10.000000</td>\n",
       "      <td>6.000000</td>\n",
       "      <td>6.000000</td>\n",
       "      <td>90500.000000</td>\n",
       "      <td>46.860000</td>\n",
       "      <td>4253.000000</td>\n",
       "      <td>22.770000</td>\n",
       "      <td>15991.000000</td>\n",
       "      <td>24.660000</td>\n",
       "      <td>0.950000</td>\n",
       "      <td>1.400000e+09</td>\n",
       "      <td>97.000000</td>\n",
       "    </tr>\n",
       "  </tbody>\n",
       "</table>\n",
       "</div>"
      ],
      "text/plain": [
       "       Keyword ID    Position  Previous position  Search Volume         CPC  \\\n",
       "count  199.000000  199.000000         199.000000     199.000000  199.000000   \n",
       "mean     5.216080    2.532663           2.391960    4711.608040    3.916985   \n",
       "std      2.905679    1.526761           1.559311   16003.015228    3.853916   \n",
       "min      1.000000    1.000000           0.000000      30.000000    0.000000   \n",
       "25%      3.000000    1.000000           1.000000      70.000000    2.310000   \n",
       "50%      5.000000    2.000000           2.000000     170.000000    3.210000   \n",
       "75%      8.000000    4.000000           4.000000    1600.000000    4.485000   \n",
       "max     10.000000    6.000000           6.000000   90500.000000   46.860000   \n",
       "\n",
       "           Traffic  Traffic (%)  Traffic Cost  Traffic Cost (%)  Competition  \\\n",
       "count   199.000000   199.000000    199.000000        199.000000   199.000000   \n",
       "mean     93.829146     0.498945    325.819095          0.499347     0.381658   \n",
       "std     446.718734     2.392012   1671.621365          2.578053     0.198629   \n",
       "min       0.000000     0.000000      0.000000          0.000000     0.000000   \n",
       "25%       0.500000     0.000000      0.000000          0.000000     0.185000   \n",
       "50%       3.000000     0.010000      7.000000          0.010000     0.410000   \n",
       "75%      20.000000     0.100000     48.000000          0.070000     0.520000   \n",
       "max    4253.000000    22.770000  15991.000000         24.660000     0.950000   \n",
       "\n",
       "       Number of Results  Keyword Difficulty  \n",
       "count       1.990000e+02          198.000000  \n",
       "mean        4.575325e+07           48.747475  \n",
       "std         1.462253e+08           16.954309  \n",
       "min         0.000000e+00            8.000000  \n",
       "25%         2.750000e+06           37.000000  \n",
       "50%         5.570000e+06           47.500000  \n",
       "75%         3.170000e+07           60.000000  \n",
       "max         1.400000e+09           97.000000  "
      ]
     },
     "execution_count": 5,
     "metadata": {},
     "output_type": "execute_result"
    }
   ],
   "source": [
    "df.describe()"
   ]
  },
  {
   "cell_type": "markdown",
   "id": "a825f914",
   "metadata": {},
   "source": [
    "#### Checking for correlation between numerical fetures using Heatmap to understand the realaion."
   ]
  },
  {
   "cell_type": "code",
   "execution_count": 6,
   "id": "2c8527f0",
   "metadata": {},
   "outputs": [
    {
     "data": {
      "image/png": "[encoded data removed]",
      "text/plain": [
       "<Figure size 1000x700 with 2 Axes>"
      ]
     },
     "metadata": {},
     "output_type": "display_data"
    }
   ],
   "source": [
    "plt.figure(figsize=(10,7))\n",
    "sns.heatmap(data=df.corr(numeric_only=True), annot=True, cmap='coolwarm')\n",
    "plt.show()"
   ]
  },
  {
   "cell_type": "markdown",
   "id": "4a1368ea",
   "metadata": {},
   "source": [
    "The analysis reveals a very strong positive correlation between Search Volume and the following metrics: Traffic, Traffic (%), Traffic Cost, and Traffic Cost (%). In all cases, the correlation coefficient exceeds 0.70, indicating that higher search volume is consistently associated with higher traffic and cost-related values. Additionally, these four metrics exhibit a perfect positive correlation with one another, with a correlation score of 1.00."
   ]
  },
  {
   "cell_type": "markdown",
   "id": "6eabecb6",
   "metadata": {},
   "source": [
    "#### Taking the relevent numerical features for further analysis. So creating a subset of data."
   ]
  },
  {
   "cell_type": "code",
   "execution_count": 7,
   "id": "02e13d2f",
   "metadata": {},
   "outputs": [
    {
     "data": {
      "application/vnd.microsoft.datawrangler.viewer.v0+json": {
       "columns": [
        {
         "name": "index",
         "rawType": "int64",
         "type": "integer"
        },
        {
         "name": "Traffic",
         "rawType": "int64",
         "type": "integer"
        },
        {
         "name": "Traffic (%)",
         "rawType": "float64",
         "type": "float"
        },
        {
         "name": "Traffic Cost",
         "rawType": "int64",
         "type": "integer"
        },
        {
         "name": "Traffic Cost (%)",
         "rawType": "float64",
         "type": "float"
        },
        {
         "name": "Search Volume",
         "rawType": "int64",
         "type": "integer"
        }
       ],
       "ref": "cc760743-0822-48bc-af30-019cae8e9766",
       "rows": [
        [
         "0",
         "4253",
         "22.77",
         "15991",
         "24.66",
         "90500"
        ],
        [
         "1",
         "4253",
         "22.77",
         "15991",
         "24.66",
         "90500"
        ],
        [
         "2",
         "1176",
         "6.29",
         "4492",
         "6.92",
         "90500"
        ],
        [
         "3",
         "850",
         "4.55",
         "2728",
         "4.2",
         "18100"
        ],
        [
         "4",
         "814",
         "4.35",
         "3109",
         "4.79",
         "90500"
        ]
       ],
       "shape": {
        "columns": 5,
        "rows": 5
       }
      },
      "text/html": [
       "<div>\n",
       "<style scoped>\n",
       "    .dataframe tbody tr th:only-of-type {\n",
       "        vertical-align: middle;\n",
       "    }\n",
       "\n",
       "    .dataframe tbody tr th {\n",
       "        vertical-align: top;\n",
       "    }\n",
       "\n",
       "    .dataframe thead th {\n",
       "        text-align: right;\n",
       "    }\n",
       "</style>\n",
       "<table border=\"1\" class=\"dataframe\">\n",
       "  <thead>\n",
       "    <tr style=\"text-align: right;\">\n",
       "      <th></th>\n",
       "      <th>Traffic</th>\n",
       "      <th>Traffic (%)</th>\n",
       "      <th>Traffic Cost</th>\n",
       "      <th>Traffic Cost (%)</th>\n",
       "      <th>Search Volume</th>\n",
       "    </tr>\n",
       "  </thead>\n",
       "  <tbody>\n",
       "    <tr>\n",
       "      <th>0</th>\n",
       "      <td>4253</td>\n",
       "      <td>22.77</td>\n",
       "      <td>15991</td>\n",
       "      <td>24.66</td>\n",
       "      <td>90500</td>\n",
       "    </tr>\n",
       "    <tr>\n",
       "      <th>1</th>\n",
       "      <td>4253</td>\n",
       "      <td>22.77</td>\n",
       "      <td>15991</td>\n",
       "      <td>24.66</td>\n",
       "      <td>90500</td>\n",
       "    </tr>\n",
       "    <tr>\n",
       "      <th>2</th>\n",
       "      <td>1176</td>\n",
       "      <td>6.29</td>\n",
       "      <td>4492</td>\n",
       "      <td>6.92</td>\n",
       "      <td>90500</td>\n",
       "    </tr>\n",
       "    <tr>\n",
       "      <th>3</th>\n",
       "      <td>850</td>\n",
       "      <td>4.55</td>\n",
       "      <td>2728</td>\n",
       "      <td>4.20</td>\n",
       "      <td>18100</td>\n",
       "    </tr>\n",
       "    <tr>\n",
       "      <th>4</th>\n",
       "      <td>814</td>\n",
       "      <td>4.35</td>\n",
       "      <td>3109</td>\n",
       "      <td>4.79</td>\n",
       "      <td>90500</td>\n",
       "    </tr>\n",
       "  </tbody>\n",
       "</table>\n",
       "</div>"
      ],
      "text/plain": [
       "   Traffic  Traffic (%)  Traffic Cost  Traffic Cost (%)  Search Volume\n",
       "0     4253        22.77         15991             24.66          90500\n",
       "1     4253        22.77         15991             24.66          90500\n",
       "2     1176         6.29          4492              6.92          90500\n",
       "3      850         4.55          2728              4.20          18100\n",
       "4      814         4.35          3109              4.79          90500"
      ]
     },
     "execution_count": 7,
     "metadata": {},
     "output_type": "execute_result"
    }
   ],
   "source": [
    "data = pd.DataFrame(data=df, columns=['Traffic', 'Traffic (%)', 'Traffic Cost', 'Traffic Cost (%)', 'Search Volume'])\n",
    "data.head()"
   ]
  },
  {
   "cell_type": "markdown",
   "id": "c336f7f3",
   "metadata": {},
   "source": [
    "#### Removing duplicate if present"
   ]
  },
  {
   "cell_type": "code",
   "execution_count": 8,
   "id": "e3e49700",
   "metadata": {},
   "outputs": [],
   "source": [
    "data.drop_duplicates(inplace=True, ignore_index=True)"
   ]
  },
  {
   "cell_type": "code",
   "execution_count": 9,
   "id": "262c2034",
   "metadata": {},
   "outputs": [
    {
     "name": "stdout",
     "output_type": "stream",
     "text": [
      "<class 'pandas.core.frame.DataFrame'>\n",
      "RangeIndex: 136 entries, 0 to 135\n",
      "Data columns (total 5 columns):\n",
      " #   Column            Non-Null Count  Dtype  \n",
      "---  ------            --------------  -----  \n",
      " 0   Traffic           136 non-null    int64  \n",
      " 1   Traffic (%)       136 non-null    float64\n",
      " 2   Traffic Cost      136 non-null    int64  \n",
      " 3   Traffic Cost (%)  136 non-null    float64\n",
      " 4   Search Volume     136 non-null    int64  \n",
      "dtypes: float64(2), int64(3)\n",
      "memory usage: 5.4 KB\n"
     ]
    }
   ],
   "source": [
    "data.info()"
   ]
  },
  {
   "cell_type": "code",
   "execution_count": 10,
   "id": "c722fc86",
   "metadata": {},
   "outputs": [
    {
     "data": {
      "application/vnd.microsoft.datawrangler.viewer.v0+json": {
       "columns": [
        {
         "name": "index",
         "rawType": "object",
         "type": "string"
        },
        {
         "name": "Traffic",
         "rawType": "float64",
         "type": "float"
        },
        {
         "name": "Traffic (%)",
         "rawType": "float64",
         "type": "float"
        },
        {
         "name": "Traffic Cost",
         "rawType": "float64",
         "type": "float"
        },
        {
         "name": "Traffic Cost (%)",
         "rawType": "float64",
         "type": "float"
        },
        {
         "name": "Search Volume",
         "rawType": "float64",
         "type": "float"
        }
       ],
       "ref": "7f9de013-dd32-44e2-a36e-fe0bf4475fdc",
       "rows": [
        [
         "count",
         "136.0",
         "136.0",
         "136.0",
         "136.0",
         "136.0"
        ],
        [
         "mean",
         "102.00735294117646",
         "0.5417647058823529",
         "349.9779411764706",
         "0.5358823529411764",
         "6107.573529411765"
        ],
        [
         "std",
         "400.10455108307076",
         "2.142646989591229",
         "1493.7706971975654",
         "2.3038503907792456",
         "17593.693840621316"
        ],
        [
         "min",
         "0.0",
         "0.0",
         "0.0",
         "0.0",
         "30.0"
        ],
        [
         "25%",
         "2.0",
         "0.01",
         "5.0",
         "0.0",
         "110.0"
        ],
        [
         "50%",
         "7.0",
         "0.03",
         "20.0",
         "0.03",
         "435.0"
        ],
        [
         "75%",
         "47.25",
         "0.25",
         "101.25",
         "0.1525",
         "2900.0"
        ],
        [
         "max",
         "4253.0",
         "22.77",
         "15991.0",
         "24.66",
         "90500.0"
        ]
       ],
       "shape": {
        "columns": 5,
        "rows": 8
       }
      },
      "text/html": [
       "<div>\n",
       "<style scoped>\n",
       "    .dataframe tbody tr th:only-of-type {\n",
       "        vertical-align: middle;\n",
       "    }\n",
       "\n",
       "    .dataframe tbody tr th {\n",
       "        vertical-align: top;\n",
       "    }\n",
       "\n",
       "    .dataframe thead th {\n",
       "        text-align: right;\n",
       "    }\n",
       "</style>\n",
       "<table border=\"1\" class=\"dataframe\">\n",
       "  <thead>\n",
       "    <tr style=\"text-align: right;\">\n",
       "      <th></th>\n",
       "      <th>Traffic</th>\n",
       "      <th>Traffic (%)</th>\n",
       "      <th>Traffic Cost</th>\n",
       "      <th>Traffic Cost (%)</th>\n",
       "      <th>Search Volume</th>\n",
       "    </tr>\n",
       "  </thead>\n",
       "  <tbody>\n",
       "    <tr>\n",
       "      <th>count</th>\n",
       "      <td>136.000000</td>\n",
       "      <td>136.000000</td>\n",
       "      <td>136.000000</td>\n",
       "      <td>136.000000</td>\n",
       "      <td>136.000000</td>\n",
       "    </tr>\n",
       "    <tr>\n",
       "      <th>mean</th>\n",
       "      <td>102.007353</td>\n",
       "      <td>0.541765</td>\n",
       "      <td>349.977941</td>\n",
       "      <td>0.535882</td>\n",
       "      <td>6107.573529</td>\n",
       "    </tr>\n",
       "    <tr>\n",
       "      <th>std</th>\n",
       "      <td>400.104551</td>\n",
       "      <td>2.142647</td>\n",
       "      <td>1493.770697</td>\n",
       "      <td>2.303850</td>\n",
       "      <td>17593.693841</td>\n",
       "    </tr>\n",
       "    <tr>\n",
       "      <th>min</th>\n",
       "      <td>0.000000</td>\n",
       "      <td>0.000000</td>\n",
       "      <td>0.000000</td>\n",
       "      <td>0.000000</td>\n",
       "      <td>30.000000</td>\n",
       "    </tr>\n",
       "    <tr>\n",
       "      <th>25%</th>\n",
       "      <td>2.000000</td>\n",
       "      <td>0.010000</td>\n",
       "      <td>5.000000</td>\n",
       "      <td>0.000000</td>\n",
       "      <td>110.000000</td>\n",
       "    </tr>\n",
       "    <tr>\n",
       "      <th>50%</th>\n",
       "      <td>7.000000</td>\n",
       "      <td>0.030000</td>\n",
       "      <td>20.000000</td>\n",
       "      <td>0.030000</td>\n",
       "      <td>435.000000</td>\n",
       "    </tr>\n",
       "    <tr>\n",
       "      <th>75%</th>\n",
       "      <td>47.250000</td>\n",
       "      <td>0.250000</td>\n",
       "      <td>101.250000</td>\n",
       "      <td>0.152500</td>\n",
       "      <td>2900.000000</td>\n",
       "    </tr>\n",
       "    <tr>\n",
       "      <th>max</th>\n",
       "      <td>4253.000000</td>\n",
       "      <td>22.770000</td>\n",
       "      <td>15991.000000</td>\n",
       "      <td>24.660000</td>\n",
       "      <td>90500.000000</td>\n",
       "    </tr>\n",
       "  </tbody>\n",
       "</table>\n",
       "</div>"
      ],
      "text/plain": [
       "           Traffic  Traffic (%)  Traffic Cost  Traffic Cost (%)  Search Volume\n",
       "count   136.000000   136.000000    136.000000        136.000000     136.000000\n",
       "mean    102.007353     0.541765    349.977941          0.535882    6107.573529\n",
       "std     400.104551     2.142647   1493.770697          2.303850   17593.693841\n",
       "min       0.000000     0.000000      0.000000          0.000000      30.000000\n",
       "25%       2.000000     0.010000      5.000000          0.000000     110.000000\n",
       "50%       7.000000     0.030000     20.000000          0.030000     435.000000\n",
       "75%      47.250000     0.250000    101.250000          0.152500    2900.000000\n",
       "max    4253.000000    22.770000  15991.000000         24.660000   90500.000000"
      ]
     },
     "execution_count": 10,
     "metadata": {},
     "output_type": "execute_result"
    }
   ],
   "source": [
    "data.describe()"
   ]
  },
  {
   "cell_type": "markdown",
   "id": "ec10714e",
   "metadata": {},
   "source": [
    "#### Checking for null values"
   ]
  },
  {
   "cell_type": "code",
   "execution_count": 11,
   "id": "34c54450",
   "metadata": {},
   "outputs": [
    {
     "data": {
      "application/vnd.microsoft.datawrangler.viewer.v0+json": {
       "columns": [
        {
         "name": "index",
         "rawType": "object",
         "type": "string"
        },
        {
         "name": "0",
         "rawType": "int64",
         "type": "integer"
        }
       ],
       "ref": "8d9218ad-2b9b-4fd2-8788-034bfe272f5f",
       "rows": [
        [
         "Traffic",
         "0"
        ],
        [
         "Traffic (%)",
         "0"
        ],
        [
         "Traffic Cost",
         "0"
        ],
        [
         "Traffic Cost (%)",
         "0"
        ],
        [
         "Search Volume",
         "0"
        ]
       ],
       "shape": {
        "columns": 1,
        "rows": 5
       }
      },
      "text/plain": [
       "Traffic             0\n",
       "Traffic (%)         0\n",
       "Traffic Cost        0\n",
       "Traffic Cost (%)    0\n",
       "Search Volume       0\n",
       "dtype: int64"
      ]
     },
     "execution_count": 11,
     "metadata": {},
     "output_type": "execute_result"
    }
   ],
   "source": [
    "data.isnull().sum()"
   ]
  },
  {
   "cell_type": "markdown",
   "id": "0be62bc2",
   "metadata": {},
   "source": [
    "#### Checking for outliers in data if present"
   ]
  },
  {
   "cell_type": "code",
   "execution_count": 12,
   "id": "a3d97eef",
   "metadata": {},
   "outputs": [
    {
     "data": {
      "application/vnd.microsoft.datawrangler.viewer.v0+json": {
       "columns": [
        {
         "name": "index",
         "rawType": "object",
         "type": "string"
        },
        {
         "name": "0",
         "rawType": "float64",
         "type": "float"
        }
       ],
       "ref": "92635f8c-a6ca-405c-b306-b270240380ac",
       "rows": [
        [
         "Traffic",
         "11769.0"
        ],
        [
         "Traffic (%)",
         "62.96000000000001"
        ],
        [
         "Traffic Cost",
         "43564.0"
        ],
        [
         "Traffic Cost (%)",
         "67.11"
        ],
        [
         "Search Volume",
         "704800.0"
        ]
       ],
       "shape": {
        "columns": 1,
        "rows": 5
       }
      },
      "text/plain": [
       "Traffic              11769.00\n",
       "Traffic (%)             62.96\n",
       "Traffic Cost         43564.00\n",
       "Traffic Cost (%)        67.11\n",
       "Search Volume       704800.00\n",
       "dtype: float64"
      ]
     },
     "execution_count": 12,
     "metadata": {},
     "output_type": "execute_result"
    }
   ],
   "source": [
    "Q1 = data.quantile(0.25)\n",
    "Q3 = data.quantile(0.75)\n",
    "iqr = Q3 - Q1\n",
    "LB = Q1 - (1.5 * iqr)\n",
    "UB = Q3 + (1.5 * iqr)\n",
    "outliers = data[(data < LB) | (data > UB)]\n",
    "outliers.sum()\n"
   ]
  },
  {
   "cell_type": "markdown",
   "id": "e5c6188b",
   "metadata": {},
   "source": [
    "#### Standerdizing the dataset using standerd scaler and ensure that no single feature dominates distance calculations in algorithm."
   ]
  },
  {
   "cell_type": "code",
   "execution_count": 13,
   "id": "3090fec1",
   "metadata": {},
   "outputs": [],
   "source": [
    "from sklearn.preprocessing import StandardScaler\n",
    "\n",
    "scaler = StandardScaler()\n",
    "data_scaled = scaler.fit_transform(data)"
   ]
  },
  {
   "cell_type": "markdown",
   "id": "c1045c41",
   "metadata": {},
   "source": [
    "#### Now creating the standerdize data frame"
   ]
  },
  {
   "cell_type": "code",
   "execution_count": 14,
   "id": "5ee46a19",
   "metadata": {},
   "outputs": [
    {
     "data": {
      "application/vnd.microsoft.datawrangler.viewer.v0+json": {
       "columns": [
        {
         "name": "index",
         "rawType": "int64",
         "type": "integer"
        },
        {
         "name": "traffic",
         "rawType": "float64",
         "type": "float"
        },
        {
         "name": "traffic(%)",
         "rawType": "float64",
         "type": "float"
        },
        {
         "name": "traffic_cost",
         "rawType": "float64",
         "type": "float"
        },
        {
         "name": "traffic_cost(%)",
         "rawType": "float64",
         "type": "float"
        },
        {
         "name": "search_volume",
         "rawType": "float64",
         "type": "float"
        }
       ],
       "ref": "4360f531-fd62-4c31-a076-9693009f3b91",
       "rows": [
        [
         "0",
         "10.413124062510652",
         "10.41254593262814",
         "10.509541335798565",
         "10.509927848396478",
         "4.814475862265529"
        ],
        [
         "1",
         "2.694203441668795",
         "2.692690770976029",
         "2.7831142924856667",
         "2.781308598635658",
         "4.814475862265529"
        ],
        [
         "2",
         "1.8764042468704707",
         "1.8776089759957697",
         "1.5978445034254047",
         "1.5963117350872122",
         "0.6841520049522852"
        ],
        [
         "3",
         "1.7860951333344595",
         "1.7839214133543604",
         "1.8538466517428422",
         "1.8533514959304411",
         "4.814475862265529"
        ],
        [
         "4",
         "1.4875733413681997",
         "1.4888055910339222",
         "0.8526833945434148",
         "0.8513320892534468",
         "0.49589138714657105"
        ]
       ],
       "shape": {
        "columns": 5,
        "rows": 5
       }
      },
      "text/html": [
       "<div>\n",
       "<style scoped>\n",
       "    .dataframe tbody tr th:only-of-type {\n",
       "        vertical-align: middle;\n",
       "    }\n",
       "\n",
       "    .dataframe tbody tr th {\n",
       "        vertical-align: top;\n",
       "    }\n",
       "\n",
       "    .dataframe thead th {\n",
       "        text-align: right;\n",
       "    }\n",
       "</style>\n",
       "<table border=\"1\" class=\"dataframe\">\n",
       "  <thead>\n",
       "    <tr style=\"text-align: right;\">\n",
       "      <th></th>\n",
       "      <th>traffic</th>\n",
       "      <th>traffic(%)</th>\n",
       "      <th>traffic_cost</th>\n",
       "      <th>traffic_cost(%)</th>\n",
       "      <th>search_volume</th>\n",
       "    </tr>\n",
       "  </thead>\n",
       "  <tbody>\n",
       "    <tr>\n",
       "      <th>0</th>\n",
       "      <td>10.413124</td>\n",
       "      <td>10.412546</td>\n",
       "      <td>10.509541</td>\n",
       "      <td>10.509928</td>\n",
       "      <td>4.814476</td>\n",
       "    </tr>\n",
       "    <tr>\n",
       "      <th>1</th>\n",
       "      <td>2.694203</td>\n",
       "      <td>2.692691</td>\n",
       "      <td>2.783114</td>\n",
       "      <td>2.781309</td>\n",
       "      <td>4.814476</td>\n",
       "    </tr>\n",
       "    <tr>\n",
       "      <th>2</th>\n",
       "      <td>1.876404</td>\n",
       "      <td>1.877609</td>\n",
       "      <td>1.597845</td>\n",
       "      <td>1.596312</td>\n",
       "      <td>0.684152</td>\n",
       "    </tr>\n",
       "    <tr>\n",
       "      <th>3</th>\n",
       "      <td>1.786095</td>\n",
       "      <td>1.783921</td>\n",
       "      <td>1.853847</td>\n",
       "      <td>1.853351</td>\n",
       "      <td>4.814476</td>\n",
       "    </tr>\n",
       "    <tr>\n",
       "      <th>4</th>\n",
       "      <td>1.487573</td>\n",
       "      <td>1.488806</td>\n",
       "      <td>0.852683</td>\n",
       "      <td>0.851332</td>\n",
       "      <td>0.495891</td>\n",
       "    </tr>\n",
       "  </tbody>\n",
       "</table>\n",
       "</div>"
      ],
      "text/plain": [
       "     traffic  traffic(%)  traffic_cost  traffic_cost(%)  search_volume\n",
       "0  10.413124   10.412546     10.509541        10.509928       4.814476\n",
       "1   2.694203    2.692691      2.783114         2.781309       4.814476\n",
       "2   1.876404    1.877609      1.597845         1.596312       0.684152\n",
       "3   1.786095    1.783921      1.853847         1.853351       4.814476\n",
       "4   1.487573    1.488806      0.852683         0.851332       0.495891"
      ]
     },
     "execution_count": 14,
     "metadata": {},
     "output_type": "execute_result"
    }
   ],
   "source": [
    "data_scaled = pd.DataFrame(data=data_scaled, columns=['traffic', 'traffic(%)', 'traffic_cost', 'traffic_cost(%)', 'search_volume'])\n",
    "data_scaled.head()"
   ]
  },
  {
   "cell_type": "markdown",
   "id": "d4bb2bc4",
   "metadata": {},
   "source": [
    "#### Performing the Elbow Method to find the optimal number of clusters for further analysis."
   ]
  },
  {
   "cell_type": "code",
   "execution_count": 15,
   "id": "1d1f3dcf",
   "metadata": {},
   "outputs": [],
   "source": [
    "from sklearn.cluster import KMeans\n",
    "\n",
    "inertia_values = []\n",
    "cluster_range = range(2, 11)\n",
    "\n",
    "for k in cluster_range:\n",
    "    kmeans = KMeans(n_clusters=k, random_state=42, n_init=10)\n",
    "    kmeans.fit(data_scaled)\n",
    "    inertia_values.append(kmeans.inertia_)"
   ]
  },
  {
   "cell_type": "markdown",
   "id": "4fbfa355",
   "metadata": {},
   "source": [
    "#### Visualizing the Elbow Method"
   ]
  },
  {
   "cell_type": "code",
   "execution_count": 16,
   "id": "913a9800",
   "metadata": {},
   "outputs": [
    {
     "data": {
      "image/png": "[encoded data removed]",
      "text/plain": [
       "<Figure size 1000x700 with 1 Axes>"
      ]
     },
     "metadata": {},
     "output_type": "display_data"
    }
   ],
   "source": [
    "\n",
    "plt.figure(figsize=(10, 7))\n",
    "sns.lineplot(x=list(cluster_range), y=inertia_values, marker='o')\n",
    "plt.title('Elbow Method')\n",
    "plt.xlabel('Number of clusters (k)')\n",
    "plt.ylabel('Inertia')\n",
    "plt.show()"
   ]
  },
  {
   "cell_type": "markdown",
   "id": "02fef136",
   "metadata": {},
   "source": [
    "We are taking no of clusters 4 after observing the elbow method graph."
   ]
  },
  {
   "cell_type": "code",
   "execution_count": 17,
   "id": "e9a4f060",
   "metadata": {},
   "outputs": [],
   "source": [
    "final_kmeans = KMeans(n_clusters=4, random_state=42, n_init=10)\n",
    "final_kmeans.fit(data_scaled)\n",
    "labels = final_kmeans.labels_"
   ]
  },
  {
   "cell_type": "markdown",
   "id": "0a8f8b34",
   "metadata": {},
   "source": [
    "#### Using PCA (Principal Component Analysis) to reduce the number of features in your dataset while keeping as much of the important information as possible."
   ]
  },
  {
   "cell_type": "code",
   "execution_count": 18,
   "id": "bfb44426",
   "metadata": {},
   "outputs": [
    {
     "data": {
      "application/vnd.microsoft.datawrangler.viewer.v0+json": {
       "columns": [
        {
         "name": "index",
         "rawType": "int64",
         "type": "integer"
        },
        {
         "name": "PC1",
         "rawType": "float64",
         "type": "float"
        },
        {
         "name": "PC2",
         "rawType": "float64",
         "type": "float"
        },
        {
         "name": "Cluster",
         "rawType": "int32",
         "type": "integer"
        }
       ],
       "ref": "e711d1bd-a63a-496a-b4b6-ff253a09cd82",
       "rows": [
        [
         "0",
         "21.233696119467073",
         "-3.1697754454295035",
         "1"
        ],
        [
         "1",
         "6.857401486137646",
         "2.4790436009938706",
         "2"
        ],
        [
         "2",
         "3.4832801415525325",
         "-0.6413329677877189",
         "3"
        ],
        [
         "3",
         "5.147655759417393",
         "3.1503353609646005",
         "2"
        ],
        [
         "4",
         "2.358754053113149",
         "-0.4111625330118308",
         "3"
        ]
       ],
       "shape": {
        "columns": 3,
        "rows": 5
       }
      },
      "text/html": [
       "<div>\n",
       "<style scoped>\n",
       "    .dataframe tbody tr th:only-of-type {\n",
       "        vertical-align: middle;\n",
       "    }\n",
       "\n",
       "    .dataframe tbody tr th {\n",
       "        vertical-align: top;\n",
       "    }\n",
       "\n",
       "    .dataframe thead th {\n",
       "        text-align: right;\n",
       "    }\n",
       "</style>\n",
       "<table border=\"1\" class=\"dataframe\">\n",
       "  <thead>\n",
       "    <tr style=\"text-align: right;\">\n",
       "      <th></th>\n",
       "      <th>PC1</th>\n",
       "      <th>PC2</th>\n",
       "      <th>Cluster</th>\n",
       "    </tr>\n",
       "  </thead>\n",
       "  <tbody>\n",
       "    <tr>\n",
       "      <th>0</th>\n",
       "      <td>21.233696</td>\n",
       "      <td>-3.169775</td>\n",
       "      <td>1</td>\n",
       "    </tr>\n",
       "    <tr>\n",
       "      <th>1</th>\n",
       "      <td>6.857401</td>\n",
       "      <td>2.479044</td>\n",
       "      <td>2</td>\n",
       "    </tr>\n",
       "    <tr>\n",
       "      <th>2</th>\n",
       "      <td>3.483280</td>\n",
       "      <td>-0.641333</td>\n",
       "      <td>3</td>\n",
       "    </tr>\n",
       "    <tr>\n",
       "      <th>3</th>\n",
       "      <td>5.147656</td>\n",
       "      <td>3.150335</td>\n",
       "      <td>2</td>\n",
       "    </tr>\n",
       "    <tr>\n",
       "      <th>4</th>\n",
       "      <td>2.358754</td>\n",
       "      <td>-0.411163</td>\n",
       "      <td>3</td>\n",
       "    </tr>\n",
       "  </tbody>\n",
       "</table>\n",
       "</div>"
      ],
      "text/plain": [
       "         PC1       PC2  Cluster\n",
       "0  21.233696 -3.169775        1\n",
       "1   6.857401  2.479044        2\n",
       "2   3.483280 -0.641333        3\n",
       "3   5.147656  3.150335        2\n",
       "4   2.358754 -0.411163        3"
      ]
     },
     "execution_count": 18,
     "metadata": {},
     "output_type": "execute_result"
    }
   ],
   "source": [
    "from sklearn.decomposition import PCA\n",
    "\n",
    "pca = PCA(n_components=2)\n",
    "X_pca = pca.fit_transform(data_scaled.values)\n",
    "pca_df = pd.DataFrame(X_pca, columns=['PC1', 'PC2'])\n",
    "pca_df['Cluster'] = labels\n",
    "pca_df.head()"
   ]
  },
  {
   "cell_type": "markdown",
   "id": "e08d2b19",
   "metadata": {},
   "source": [
    "#### Projecting the K-Means centroids into the same PCA space"
   ]
  },
  {
   "cell_type": "code",
   "execution_count": 19,
   "id": "89f5485a",
   "metadata": {},
   "outputs": [],
   "source": [
    "centroids_pca = pca.transform(final_kmeans.cluster_centers_)"
   ]
  },
  {
   "cell_type": "markdown",
   "id": "1ec3fbd6",
   "metadata": {},
   "source": [
    "#### Plotting the scatter plot for cluster visualization"
   ]
  },
  {
   "cell_type": "code",
   "execution_count": 20,
   "id": "0406fcbf",
   "metadata": {},
   "outputs": [
    {
     "data": {
      "image/png": "[encoded data removed]",
      "text/plain": [
       "<Figure size 1000x700 with 1 Axes>"
      ]
     },
     "metadata": {},
     "output_type": "display_data"
    }
   ],
   "source": [
    "\n",
    "# Plot clusters\n",
    "plt.figure(figsize=(10, 7))\n",
    "sns.scatterplot(data=pca_df, x='PC1', y='PC2', hue='Cluster', palette='tab10', s=100)\n",
    "plt.scatter(centroids_pca[:, 0], centroids_pca[:, 1], c='black', s=250, marker='*', label='Centroids')\n",
    "plt.title(\"K-Means Clustering - PCA Projection\")\n",
    "plt.legend()\n",
    "plt.show()"
   ]
  }
 ],
 "metadata": {
  "kernelspec": {
   "display_name": ".venv (3.13.7)",
   "language": "python",
   "name": "python3"
  },
  "language_info": {
   "codemirror_mode": {
    "name": "ipython",
    "version": 3
   },
   "file_extension": ".py",
   "mimetype": "text/x-python",
   "name": "python",
   "nbconvert_exporter": "python",
   "pygments_lexer": "ipython3",
   "version": "3.13.7"
  }
 },
 "nbformat": 4,
 "nbformat_minor": 5
}
